{
 "cells": [
  {
   "cell_type": "code",
   "execution_count": 7,
   "metadata": {},
   "outputs": [],
   "source": [
    "import requests\n",
    "from pprint import pprint"
   ]
  },
  {
   "cell_type": "code",
   "execution_count": 8,
   "metadata": {},
   "outputs": [],
   "source": [
    "BASE_URL = 'https://nominatim.openstreetmap.org/search?format=json'"
   ]
  },
  {
   "cell_type": "code",
   "execution_count": 9,
   "metadata": {},
   "outputs": [],
   "source": [
    "postcode = 'G42 9AY'\n",
    "# postcode = str(input('Código postal: ')).strip()\n",
    "response = requests.get(f\"{BASE_URL}&postalcode={postcode}\")"
   ]
  },
  {
   "cell_type": "code",
   "execution_count": 6,
   "metadata": {},
   "outputs": [
    {
     "name": "stdout",
     "output_type": "stream",
     "text": [
      "Error from server: b'<html>\\n<head>\\n<title>Access blocked</title>\\n</head>\\n<body>\\n<h1>Access blocked</h1>\\n\\n<p>You have been blocked because you have violated the\\n<a href=\"https://operations.osmfoundation.org/policies/nominatim/\">usage policy</a>\\nof OSM\\'s Nominatim geocoding service. Please be aware that OSM\\'s resources are\\nlimited and shared between many users. The usage policy is there to ensure that\\nthe service remains usable for everybody.</p>\\n\\n<p>Please review the terms and make sure that your\\nsoftware adheres to the terms. You should in particular verify that you have set a\\n<b>custom HTTP referrer or HTTP user agent</b> that identifies your application, and\\nthat you are not overusing the service with massive bulk requests.</p>\\n\\n<p>If you feel that this block is unjustified or remains after you have adopted\\nyour usage, you may contact the Nominatim system administrator at\\nnominatim@openstreetmap.org to have this block lifted.</p>\\n</body>\\n</head>\\n'\n"
     ]
    }
   ],
   "source": [
    "try:\n",
    "    data = response.json()\n",
    "    print(data)\n",
    "except:\n",
    "    print(\"Error from server: \" + str(response.content))"
   ]
  },
  {
   "cell_type": "code",
   "execution_count": null,
   "metadata": {},
   "outputs": [],
   "source": [
    "latitude = data[0].get('lat')\n",
    "longitude = data[0].get('lon')"
   ]
  },
  {
   "cell_type": "code",
   "execution_count": null,
   "metadata": {},
   "outputs": [],
   "source": [
    "import folium\n",
    "\n",
    "location = float(latitude), float(longitude)\n",
    "\n",
    "m = folium.Map(location=location, width=800, height=400)\n",
    "folium.Marker(location, popup='Sua localização!').add_to(m)\n",
    "\n",
    "m\n",
    "\n"
   ]
  }
 ],
 "metadata": {
  "kernelspec": {
   "display_name": "Python 3",
   "language": "python",
   "name": "python3"
  },
  "language_info": {
   "codemirror_mode": {
    "name": "ipython",
    "version": 3
   },
   "file_extension": ".py",
   "mimetype": "text/x-python",
   "name": "python",
   "nbconvert_exporter": "python",
   "pygments_lexer": "ipython3",
   "version": "3.11.6"
  }
 },
 "nbformat": 4,
 "nbformat_minor": 2
}
