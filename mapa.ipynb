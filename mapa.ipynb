{
 "cells": [
  {
   "cell_type": "markdown",
   "metadata": {},
   "source": [
    "# Código Postal\n",
    "\n",
    "### Bibliotecas\n",
    "\n",
    "- **Requests** para conectar ao Open Street Map.\n",
    "- **pprint** para manuseio dos dados."
   ]
  },
  {
   "cell_type": "code",
   "execution_count": null,
   "metadata": {},
   "outputs": [],
   "source": [
    "import requests\n",
    "from pprint import pprint"
   ]
  },
  {
   "cell_type": "code",
   "execution_count": null,
   "metadata": {},
   "outputs": [],
   "source": [
    "BASE_URL = 'https://nominatim.openstreetmap.org/search?format=json'"
   ]
  },
  {
   "cell_type": "markdown",
   "metadata": {},
   "source": [
    "- Solicita o Código Postal e transfere para URL."
   ]
  },
  {
   "cell_type": "code",
   "execution_count": null,
   "metadata": {},
   "outputs": [],
   "source": [
    "# postcode = 'G42 9AY'\n",
    "postcode = str(input('Código postal (Partida): ')).strip()\n",
    "response = requests.get(f\"{BASE_URL}&postalcode={postcode}\")"
   ]
  },
  {
   "cell_type": "markdown",
   "metadata": {},
   "source": [
    "Transforma a resposta no formato json, se falhar, retorna o conteúdo da resposta."
   ]
  },
  {
   "cell_type": "code",
   "execution_count": null,
   "metadata": {},
   "outputs": [],
   "source": [
    "try:\n",
    "    data = response.json()\n",
    "    print(data)\n",
    "except:\n",
    "    print(\"Error from server: \" + str(response.content))"
   ]
  },
  {
   "cell_type": "markdown",
   "metadata": {},
   "source": [
    "A partir da resposta em Json, é extraído a latitude e a longitude da localização informada."
   ]
  },
  {
   "cell_type": "code",
   "execution_count": null,
   "metadata": {},
   "outputs": [],
   "source": [
    "latitude = data[0].get('lat')\n",
    "longitude = data[0].get('lon')"
   ]
  },
  {
   "cell_type": "code",
   "execution_count": null,
   "metadata": {},
   "outputs": [],
   "source": [
    "postcode = str(input('Código postal (Chegada): ')).strip()\n",
    "response = requests.get(f\"{BASE_URL}&postalcode={postcode}&country=brazil\")\n",
    "data = response.json()\n",
    "\n",
    "latitude2 = data[0].get('lat')\n",
    "longitude2 = data[0].get('lon')\n",
    "\n",
    "(latitude, longitude)"
   ]
  },
  {
   "cell_type": "markdown",
   "metadata": {},
   "source": [
    "# Folium (Mapa)\n",
    "\n",
    "### Bibliotecas\n",
    "\n",
    "- **Folium:** Para mostrar o mapa\n",
    "\n",
    "### Código\n",
    "\n",
    "- Localização recebe latitude e longitude;\n",
    "- a variável m recebe a localização no mapa;\n",
    "- um marcador é adicionado na localização informada."
   ]
  },
  {
   "cell_type": "code",
   "execution_count": null,
   "metadata": {},
   "outputs": [],
   "source": [
    "import folium\n",
    "import openrouteservice as ors\n",
    "\n",
    "client = ors.client(key='5b3ce3597851110001cf6248c92503e4c87f494aa259b8682754547b')\n",
    "\n",
    "saida = float(latitude), float(longitude)\n",
    "chegada = float(latitude2), float(longitude2)\n",
    "coords = [[saida], [chegada]]\n",
    "\n",
    "m = folium.Map(location=location, width=1920, height=1080)\n",
    "folium.Marker(saida, popup='Saída!').add_to(m)\n",
    "folium.Marker(chegada, popup='Chegada!').add_to(m)\n",
    "\n",
    "route = client.directions(coordinates=coords,\n",
    "                          profile='driving-car',\n",
    "                          format='geojson')\n",
    "\n",
    "folium.PolyLine(locations=[list(reversed(coord)) for coord in route['features'][0]['geometry']['coordinates']], color=\"blue\").add_to(m)\n",
    "\n",
    "m\n",
    "\n"
   ]
  }
 ],
 "metadata": {
  "kernelspec": {
   "display_name": "Python 3",
   "language": "python",
   "name": "python3"
  },
  "language_info": {
   "codemirror_mode": {
    "name": "ipython",
    "version": 3
   },
   "file_extension": ".py",
   "mimetype": "text/x-python",
   "name": "python",
   "nbconvert_exporter": "python",
   "pygments_lexer": "ipython3",
   "version": "3.11.2"
  }
 },
 "nbformat": 4,
 "nbformat_minor": 2
}
