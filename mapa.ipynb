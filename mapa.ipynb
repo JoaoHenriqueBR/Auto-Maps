{
 "cells": [
  {
   "cell_type": "markdown",
   "metadata": {},
   "source": [
    "# Código Postal\n",
    "\n",
    "### Bibliotecas\n",
    "\n",
    "- **brazilcep:** para descobrir o Endereço pelo CEP.\n",
    "- **Geopy:** Transforma o Endereço em Coordenadas."
   ]
  },
  {
   "cell_type": "code",
   "execution_count": null,
   "metadata": {},
   "outputs": [],
   "source": [
    "import brazilcep\n",
    "from geopy.geocoders import Nominatim"
   ]
  },
  {
   "cell_type": "markdown",
   "metadata": {},
   "source": [
    "- Solicita o CEP e transforma em endereço:"
   ]
  },
  {
   "cell_type": "code",
   "execution_count": null,
   "metadata": {},
   "outputs": [],
   "source": [
    "cep = str(input('Informe o CEP do Inicio (Sem Traços): ')).strip()\n",
    "endereco = brazilcep.get_address_from_cep(cep)\n",
    "print(endereco)\n",
    "geolocator = Nominatim(user_agent=\"test_app\")\n",
    "location = geolocator.geocode(endereco['street'] + \", \" + endereco['city'])\n"
   ]
  },
  {
   "cell_type": "markdown",
   "metadata": {},
   "source": [
    "- A partir do endereço descoberto, é extraído suas coordenadas."
   ]
  },
  {
   "cell_type": "code",
   "execution_count": null,
   "metadata": {},
   "outputs": [],
   "source": [
    "print(location.latitude, location.longitude)\n",
    "latitude = location.latitude\n",
    "longitude = location.longitude"
   ]
  },
  {
   "cell_type": "markdown",
   "metadata": {},
   "source": [
    "- Assim como o Endereço Inicial, também é solicitado o CEP para o Endereço de Chegada, com suas coordenadads salvas em outras variáveis"
   ]
  },
  {
   "cell_type": "code",
   "execution_count": null,
   "metadata": {},
   "outputs": [],
   "source": [
    "cep = str(input('Informe o CEP do local a chegar (Sem Traços): ')).strip()\n",
    "endereco = brazilcep.get_address_from_cep(cep)\n",
    "location = geolocator.geocode(endereco['street'] + \", \" + endereco['city'])\n",
    "\n",
    "latitude2 = location.latitude\n",
    "longitude2 = location.longitude"
   ]
  },
  {
   "cell_type": "markdown",
   "metadata": {},
   "source": [
    "# Folium (Mapa)\n",
    "\n",
    "---\n",
    "\n",
    "## IMPORTANTE: \n",
    "\n",
    "Para usar o serviço de Rotas, é preciso uma chave de API, que pode ser adquirida de forma gratuita em https://openrouteservice.org/dev/#/login, criando uma conta e um token pessoal (Lembrando que cada chave possui um limite de uso para evitar sobrecarga).\n",
    "\n",
    "---\n",
    "\n",
    "### Bibliotecas\n",
    "\n",
    "- **Folium:** Para mostrar o mapa\n",
    "- **Openrouteservice:** Mostra a rota para o lugar determinado\n",
    "\n",
    "### Código\n",
    "\n",
    "- inicio e chegada recebem latitudes e longitudes;\n",
    "- a variável m recebe a localização no mapa;\n",
    "- Marcadores são adicionados nas localizações informadas;\n",
    "- Rota recebe devidas informações;\n",
    "- Com essas informações, é criada a linha no mapa."
   ]
  },
  {
   "cell_type": "code",
   "execution_count": null,
   "metadata": {},
   "outputs": [],
   "source": [
    "import folium\n",
    "import openrouteservice as ors\n",
    "\n",
    "client = ors.Client(key=str(input('CHAVE DA API / API KEY: '))) # DIGITA SUA CHAVE PARA ACESSAR A API: API KEY -> https://openrouteservice.org/dev/#/login\n",
    "\n",
    "inicio = float(latitude), float(longitude)\n",
    "chegada = float(latitude2), float(longitude2)\n",
    "coords = [[float(longitude), float(latitude)], [float(longitude2), float(latitude2)]]\n",
    "\n",
    "m = folium.Map(location=inicio, zoom_start=13)\n",
    "\n",
    "folium.Marker(inicio, popup='Inicio!', icon=folium.Icon(color=\"red\")).add_to(m)\n",
    "folium.Marker(chegada, popup='Chegada!').add_to(m)\n",
    "\n",
    "\n",
    "route = client.directions(coordinates=coords,\n",
    "                          profile='driving-car',\n",
    "                          format='geojson')\n",
    "\n",
    "\n",
    "folium.PolyLine(locations=[list(reversed(coord)) for coord in route['features'][0]['geometry']['coordinates']], color=\"blue\").add_to(m)\n",
    "\n",
    "m\n",
    "\n"
   ]
  },
  {
   "cell_type": "markdown",
   "metadata": {},
   "source": [
    "# Várias Entregas\n",
    "\n",
    "No caso de várias entregas, estas serão distribuidas entre os veículos de acordo com suas capacidades.\n",
    "\n",
    "### Código\n",
    "\n",
    "Primeiro, você criarará uma lista com coordenadas que serão os pontos de entregas\n",
    "\n",
    "Você pode criar a lista, tanto:\n",
    "\n",
    "- Usando o gerador de coordenas com base no CEP do Local de Entrega\n",
    "- Digitando as coordenas diretamente na lista -> `coords` (Lembrando de escrever em ordem invertida (Longitude, Latitude))"
   ]
  },
  {
   "cell_type": "code",
   "execution_count": null,
   "metadata": {},
   "outputs": [],
   "source": [
    "# Lista pré-gerada\n",
    "coords = []\n",
    "\n",
    "# Gerar a lista de Locais de Entrega\n",
    "r = 's'\n",
    "while r == 's' or r == 'sim':\n",
    "    cep = str(input('Informe o CEP do Local de Entrega (Sem Traços): ')).strip()\n",
    "    try:\n",
    "        endereco = brazilcep.get_address_from_cep(cep, timeout=10)\n",
    "    except brazilcep.exceptions.InvalidCEP as eic:\n",
    "        print(f'CEP: {cep} INVÀLIDO!!! {eic}')\n",
    "    except brazilcep.exceptions.BrazilCEPException as e:\n",
    "        print('ERRO! Aguarde e tente novamente!')\n",
    "        print(e)\n",
    "    location = geolocator.geocode(endereco['street'] + \", \" + endereco['city'])\n",
    "    coords.append([location.longitude, location.latitude])\n",
    "    r = input('Deseja adicionar mais um local de entrega? (s/n): ').lower().strip()"
   ]
  },
  {
   "cell_type": "markdown",
   "metadata": {},
   "source": [
    "- A variável Inicio guarda a coordenada do Ponto de Partida;"
   ]
  },
  {
   "cell_type": "code",
   "execution_count": null,
   "metadata": {},
   "outputs": [],
   "source": [
    "# Local de Inicio\n",
    "cep = str(input('Informe o CEP do Inicio (Sem Traços): ')).strip()\n",
    "endereco = brazilcep.get_address_from_cep(cep)\n",
    "location = geolocator.geocode(endereco['street'] + \", \" + endereco['city'])\n",
    "inicio = [location.longitude, location.latitude]"
   ]
  },
  {
   "cell_type": "markdown",
   "metadata": {},
   "source": [
    "### Mapa\n",
    "\n",
    "- É criado o mapa e os Locais de Entrega e o Ponto de Partida são marcados no mesmo;\n",
    "- Na Lista `vehicles` são salvos os veículos e a quantidade de cada;\n",
    "- É usado a função de jobs e optimized, para criar várias rotas otimizadas para os serviços;\n",
    "- São usados **cores** para **diferenciar** os carros;\n",
    "- As Rotas são adicionadas ao mapa."
   ]
  },
  {
   "cell_type": "code",
   "execution_count": null,
   "metadata": {},
   "outputs": [],
   "source": [
    "m = folium.Map(location=list(reversed(inicio)), tiles=\"cartodbpositron\", zoom_start=14)\n",
    "for coord in coords:\n",
    "    folium.Marker(location=list(reversed(coord)), popup='Local de Entrega').add_to(m)\n",
    "    \n",
    "folium.Marker(location=list(reversed(inicio)), popup='Ponto de Partida', icon=folium.Icon(color=\"red\")).add_to(m)\n",
    "\n",
    "vehicles = [\n",
    "    ors.optimization.Vehicle(id=0, profile='driving-car', start=inicio, end=inicio, capacity=[5]),\n",
    "    ors.optimization.Vehicle(id=1, profile='driving-car', start=inicio, end=inicio, capacity=[5])\n",
    "]\n",
    "jobs = [ors.optimization.Job(id=index, location=coords, amount=[1]) for index, coords in enumerate(coords)]\n",
    "optimized = client.optimization(jobs=jobs, vehicles=vehicles, geometry=True)\n",
    "\n",
    "line_colors = ['green', 'orange', 'blue', 'yellow']\n",
    "\n",
    "for route in optimized['routes']:\n",
    "    folium.PolyLine(locations=[list(reversed(coords)) for coords in ors.convert.decode_polyline(route['geometry'])['coordinates']], color=line_colors[route['vehicle']]).add_to(m)\n",
    "    \n",
    "\n",
    "m\n"
   ]
  }
 ],
 "metadata": {
  "kernelspec": {
   "display_name": "Python 3",
   "language": "python",
   "name": "python3"
  },
  "language_info": {
   "codemirror_mode": {
    "name": "ipython",
    "version": 3
   },
   "file_extension": ".py",
   "mimetype": "text/x-python",
   "name": "python",
   "nbconvert_exporter": "python",
   "pygments_lexer": "ipython3",
   "version": "3.11.6"
  }
 },
 "nbformat": 4,
 "nbformat_minor": 2
}
